{
 "metadata": {
  "language_info": {
   "codemirror_mode": {
    "name": "ipython",
    "version": 3
   },
   "file_extension": ".py",
   "mimetype": "text/x-python",
   "name": "python",
   "nbconvert_exporter": "python",
   "pygments_lexer": "ipython3",
   "version": "3.6.9-final"
  },
  "orig_nbformat": 2,
  "kernelspec": {
   "name": "python3",
   "display_name": "Python 3",
   "language": "python"
  }
 },
 "nbformat": 4,
 "nbformat_minor": 2,
 "cells": [
  {
   "cell_type": "code",
   "execution_count": 1,
   "metadata": {},
   "outputs": [],
   "source": [
    "import pandas as pd \n",
    "import numpy as np"
   ]
  },
  {
   "cell_type": "code",
   "execution_count": 5,
   "metadata": {},
   "outputs": [
    {
     "output_type": "execute_result",
     "data": {
      "text/plain": [
       "             nombre  frec  edad_media\n",
       "0   MARIA GUADALUPE  7105       42.81\n",
       "1           LETICIA  5848       43.66\n",
       "2          PATRICIA  5422       42.41\n",
       "3         GUADALUPE  5348       43.38\n",
       "4  MARIA DEL CARMEN  4881       44.04"
      ],
      "text/html": "<div>\n<style scoped>\n    .dataframe tbody tr th:only-of-type {\n        vertical-align: middle;\n    }\n\n    .dataframe tbody tr th {\n        vertical-align: top;\n    }\n\n    .dataframe thead th {\n        text-align: right;\n    }\n</style>\n<table border=\"1\" class=\"dataframe\">\n  <thead>\n    <tr style=\"text-align: right;\">\n      <th></th>\n      <th>nombre</th>\n      <th>frec</th>\n      <th>edad_media</th>\n    </tr>\n  </thead>\n  <tbody>\n    <tr>\n      <th>0</th>\n      <td>MARIA GUADALUPE</td>\n      <td>7105</td>\n      <td>42.81</td>\n    </tr>\n    <tr>\n      <th>1</th>\n      <td>LETICIA</td>\n      <td>5848</td>\n      <td>43.66</td>\n    </tr>\n    <tr>\n      <th>2</th>\n      <td>PATRICIA</td>\n      <td>5422</td>\n      <td>42.41</td>\n    </tr>\n    <tr>\n      <th>3</th>\n      <td>GUADALUPE</td>\n      <td>5348</td>\n      <td>43.38</td>\n    </tr>\n    <tr>\n      <th>4</th>\n      <td>MARIA DEL CARMEN</td>\n      <td>4881</td>\n      <td>44.04</td>\n    </tr>\n  </tbody>\n</table>\n</div>"
     },
     "metadata": {},
     "execution_count": 5
    }
   ],
   "source": [
    "mujeres = pd.read_csv(\"mujeres.csv\")\n",
    "mujeres.head()"
   ]
  },
  {
   "cell_type": "code",
   "execution_count": 6,
   "metadata": {},
   "outputs": [
    {
     "output_type": "execute_result",
     "data": {
      "text/plain": [
       "         nombre  frec  edad_media\n",
       "0     JOSE LUIS  7028       45.13\n",
       "1  MIGUEL ANGEL  5137       41.78\n",
       "2     FRANCISCO  4853       46.73\n",
       "3          JUAN  4655       47.27\n",
       "4         JESUS  4198       44.66"
      ],
      "text/html": "<div>\n<style scoped>\n    .dataframe tbody tr th:only-of-type {\n        vertical-align: middle;\n    }\n\n    .dataframe tbody tr th {\n        vertical-align: top;\n    }\n\n    .dataframe thead th {\n        text-align: right;\n    }\n</style>\n<table border=\"1\" class=\"dataframe\">\n  <thead>\n    <tr style=\"text-align: right;\">\n      <th></th>\n      <th>nombre</th>\n      <th>frec</th>\n      <th>edad_media</th>\n    </tr>\n  </thead>\n  <tbody>\n    <tr>\n      <th>0</th>\n      <td>JOSE LUIS</td>\n      <td>7028</td>\n      <td>45.13</td>\n    </tr>\n    <tr>\n      <th>1</th>\n      <td>MIGUEL ANGEL</td>\n      <td>5137</td>\n      <td>41.78</td>\n    </tr>\n    <tr>\n      <th>2</th>\n      <td>FRANCISCO</td>\n      <td>4853</td>\n      <td>46.73</td>\n    </tr>\n    <tr>\n      <th>3</th>\n      <td>JUAN</td>\n      <td>4655</td>\n      <td>47.27</td>\n    </tr>\n    <tr>\n      <th>4</th>\n      <td>JESUS</td>\n      <td>4198</td>\n      <td>44.66</td>\n    </tr>\n  </tbody>\n</table>\n</div>"
     },
     "metadata": {},
     "execution_count": 6
    }
   ],
   "source": [
    "hombres = pd.read_csv(\"hombres.csv\")\n",
    "hombres.head()"
   ]
  },
  {
   "cell_type": "code",
   "execution_count": 9,
   "metadata": {},
   "outputs": [
    {
     "output_type": "execute_result",
     "data": {
      "text/plain": [
       "    apellido  frec_pri  frec_seg\n",
       "0  HERNANDEZ     44095     44333\n",
       "1     GARCIA     33010     33351\n",
       "2   MARTINEZ     31080     31087\n",
       "3      LOPEZ     30288     30188\n",
       "4   GONZALEZ     25356     25362"
      ],
      "text/html": "<div>\n<style scoped>\n    .dataframe tbody tr th:only-of-type {\n        vertical-align: middle;\n    }\n\n    .dataframe tbody tr th {\n        vertical-align: top;\n    }\n\n    .dataframe thead th {\n        text-align: right;\n    }\n</style>\n<table border=\"1\" class=\"dataframe\">\n  <thead>\n    <tr style=\"text-align: right;\">\n      <th></th>\n      <th>apellido</th>\n      <th>frec_pri</th>\n      <th>frec_seg</th>\n    </tr>\n  </thead>\n  <tbody>\n    <tr>\n      <th>0</th>\n      <td>HERNANDEZ</td>\n      <td>44095</td>\n      <td>44333</td>\n    </tr>\n    <tr>\n      <th>1</th>\n      <td>GARCIA</td>\n      <td>33010</td>\n      <td>33351</td>\n    </tr>\n    <tr>\n      <th>2</th>\n      <td>MARTINEZ</td>\n      <td>31080</td>\n      <td>31087</td>\n    </tr>\n    <tr>\n      <th>3</th>\n      <td>LOPEZ</td>\n      <td>30288</td>\n      <td>30188</td>\n    </tr>\n    <tr>\n      <th>4</th>\n      <td>GONZALEZ</td>\n      <td>25356</td>\n      <td>25362</td>\n    </tr>\n  </tbody>\n</table>\n</div>"
     },
     "metadata": {},
     "execution_count": 9
    }
   ],
   "source": [
    "apellidos = pd.read_csv(\"apellidos.csv\")\n",
    "apellidos.head()"
   ]
  },
  {
   "cell_type": "code",
   "execution_count": 25,
   "metadata": {},
   "outputs": [],
   "source": [
    "registros = []\n",
    "num_registros = 3658\n",
    "for llave in range(num_registros + 1):\n",
    "    edad = sum(np.random.binomial(25, .8, 1))\n",
    "    apellido_paterno = np.random.choice(apellidos.apellido, 1)[0]\n",
    "    apellido_materno = \"\"\n",
    "    generacion = np.random.randint(1, 12, 1)[0]\n",
    "    if np.random.uniform() < 0.8:\n",
    "        apellido_materno = np.random.choice(apellidos.apellido, 1)[0]\n",
    "    if np.random.uniform() < 0.5: # Mujer\n",
    "        genero = \"M\"\n",
    "        nombre = np.random.choice(mujeres.nombre, 1)[0]\n",
    "    else:\n",
    "        genero = \"H\"\n",
    "        nombre = np.random.choice(hombres.nombre, 1)[0]\n",
    "    registros.append([llave, nombre, apellido_paterno, apellido_materno,\n",
    "                      genero, edad, generacion])"
   ]
  },
  {
   "cell_type": "code",
   "execution_count": 26,
   "metadata": {},
   "outputs": [
    {
     "output_type": "execute_result",
     "data": {
      "text/plain": [
       "      llave_estudiante              nombre apellido_paterno apellido_materno  \\\n",
       "3654              3654       ROCIO AZUCENA      TORREBLANCA            CHAPA   \n",
       "3655              3655  ALEJANDRA GEORGINA    TLAXCALTECATL                    \n",
       "3656              3656        JESUS FELIPE        YERBAFRIA          MENDOZA   \n",
       "3657              3657        JUAN ARTEMIO       VILLASE%OR           TETUAN   \n",
       "3658              3658      OSCAR SALVADOR          BENCOMO          SILICEO   \n",
       "\n",
       "     genero  edad  generacion  \n",
       "3654      M    22           4  \n",
       "3655      M    22          10  \n",
       "3656      H    20           1  \n",
       "3657      H    16           2  \n",
       "3658      H    22           8  "
      ],
      "text/html": "<div>\n<style scoped>\n    .dataframe tbody tr th:only-of-type {\n        vertical-align: middle;\n    }\n\n    .dataframe tbody tr th {\n        vertical-align: top;\n    }\n\n    .dataframe thead th {\n        text-align: right;\n    }\n</style>\n<table border=\"1\" class=\"dataframe\">\n  <thead>\n    <tr style=\"text-align: right;\">\n      <th></th>\n      <th>llave_estudiante</th>\n      <th>nombre</th>\n      <th>apellido_paterno</th>\n      <th>apellido_materno</th>\n      <th>genero</th>\n      <th>edad</th>\n      <th>generacion</th>\n    </tr>\n  </thead>\n  <tbody>\n    <tr>\n      <th>3654</th>\n      <td>3654</td>\n      <td>ROCIO AZUCENA</td>\n      <td>TORREBLANCA</td>\n      <td>CHAPA</td>\n      <td>M</td>\n      <td>22</td>\n      <td>4</td>\n    </tr>\n    <tr>\n      <th>3655</th>\n      <td>3655</td>\n      <td>ALEJANDRA GEORGINA</td>\n      <td>TLAXCALTECATL</td>\n      <td></td>\n      <td>M</td>\n      <td>22</td>\n      <td>10</td>\n    </tr>\n    <tr>\n      <th>3656</th>\n      <td>3656</td>\n      <td>JESUS FELIPE</td>\n      <td>YERBAFRIA</td>\n      <td>MENDOZA</td>\n      <td>H</td>\n      <td>20</td>\n      <td>1</td>\n    </tr>\n    <tr>\n      <th>3657</th>\n      <td>3657</td>\n      <td>JUAN ARTEMIO</td>\n      <td>VILLASE%OR</td>\n      <td>TETUAN</td>\n      <td>H</td>\n      <td>16</td>\n      <td>2</td>\n    </tr>\n    <tr>\n      <th>3658</th>\n      <td>3658</td>\n      <td>OSCAR SALVADOR</td>\n      <td>BENCOMO</td>\n      <td>SILICEO</td>\n      <td>H</td>\n      <td>22</td>\n      <td>8</td>\n    </tr>\n  </tbody>\n</table>\n</div>"
     },
     "metadata": {},
     "execution_count": 26
    }
   ],
   "source": [
    "estudiantes = pd.DataFrame(registros, columns=[\"llave_estudiante\", \"nombre\", \"apellido_paterno\", \"apellido_materno\", \"genero\", \"edad\", \"generacion\"])\n",
    "estudiantes.tail()"
   ]
  },
  {
   "cell_type": "code",
   "execution_count": 27,
   "metadata": {},
   "outputs": [],
   "source": [
    "estudiantes.to_csv(\"estudiantes.csv\", index = False)"
   ]
  },
  {
   "cell_type": "code",
   "execution_count": null,
   "metadata": {},
   "outputs": [],
   "source": []
  }
 ]
}