{
 "metadata": {
  "language_info": {
   "codemirror_mode": {
    "name": "ipython",
    "version": 3
   },
   "file_extension": ".py",
   "mimetype": "text/x-python",
   "name": "python",
   "nbconvert_exporter": "python",
   "pygments_lexer": "ipython3",
   "version": "3.8.5-final"
  },
  "orig_nbformat": 2,
  "kernelspec": {
   "name": "python3",
   "display_name": "Python 3",
   "language": "python"
  }
 },
 "nbformat": 4,
 "nbformat_minor": 2,
 "cells": [
  {
   "cell_type": "code",
   "execution_count": 39,
   "metadata": {},
   "outputs": [],
   "source": [
    "import pandas as pd\n",
    "import numpy as np"
   ]
  },
  {
   "cell_type": "code",
   "execution_count": 40,
   "metadata": {},
   "outputs": [
    {
     "output_type": "execute_result",
     "data": {
      "text/plain": [
       "             Nombre ApellidoMaterno ApellidoPaterno\n",
       "0             ABEL           ABARCA           AYALA\n",
       "1          ALFONSO          DE ALBA          AGUAYO\n",
       "2  ALICIA VIRIDIANA           AYALA       ALCERRECA\n",
       "3       FLOR KARINA           AMAYA           AVILA\n",
       "4      JORGE ARTURO         ABASCAL         ANDRADE"
      ],
      "text/html": "<div>\n<style scoped>\n    .dataframe tbody tr th:only-of-type {\n        vertical-align: middle;\n    }\n\n    .dataframe tbody tr th {\n        vertical-align: top;\n    }\n\n    .dataframe thead th {\n        text-align: right;\n    }\n</style>\n<table border=\"1\" class=\"dataframe\">\n  <thead>\n    <tr style=\"text-align: right;\">\n      <th></th>\n      <th>Nombre</th>\n      <th>ApellidoMaterno</th>\n      <th>ApellidoPaterno</th>\n    </tr>\n  </thead>\n  <tbody>\n    <tr>\n      <th>0</th>\n      <td>ABEL</td>\n      <td>ABARCA</td>\n      <td>AYALA</td>\n    </tr>\n    <tr>\n      <th>1</th>\n      <td>ALFONSO</td>\n      <td>DE ALBA</td>\n      <td>AGUAYO</td>\n    </tr>\n    <tr>\n      <th>2</th>\n      <td>ALICIA VIRIDIANA</td>\n      <td>AYALA</td>\n      <td>ALCERRECA</td>\n    </tr>\n    <tr>\n      <th>3</th>\n      <td>FLOR KARINA</td>\n      <td>AMAYA</td>\n      <td>AVILA</td>\n    </tr>\n    <tr>\n      <th>4</th>\n      <td>JORGE ARTURO</td>\n      <td>ABASCAL</td>\n      <td>ANDRADE</td>\n    </tr>\n  </tbody>\n</table>\n</div>"
     },
     "metadata": {},
     "execution_count": 40
    }
   ],
   "source": [
    "df = pd.read_csv('sp.csv')\n",
    "df.head()"
   ]
  },
  {
   "cell_type": "code",
   "execution_count": 41,
   "metadata": {},
   "outputs": [],
   "source": [
    "ap_mat = pd.DataFrame(data=df.ApellidoMaterno)\n",
    "ap_mat.to_csv('apellido_materno.csv', index=False)"
   ]
  },
  {
   "cell_type": "code",
   "execution_count": 42,
   "metadata": {},
   "outputs": [],
   "source": [
    "ap_pat = pd.DataFrame(data=df.ApellidoPaterno)\n",
    "ap_pat.to_csv('apellido_paterno.csv', index=False)"
   ]
  },
  {
   "cell_type": "code",
   "execution_count": null,
   "metadata": {},
   "outputs": [],
   "source": []
  },
  {
   "cell_type": "code",
   "execution_count": 43,
   "metadata": {},
   "outputs": [
    {
     "output_type": "stream",
     "name": "stdout",
     "text": [
      "(3657,)\n"
     ]
    },
    {
     "output_type": "execute_result",
     "data": {
      "text/plain": [
       "array(['F', 'M', 'F', ..., 'M', 'M', 'F'], dtype='<U1')"
      ]
     },
     "metadata": {},
     "execution_count": 43
    }
   ],
   "source": [
    "generos = []\n",
    "for i in range(df.shape[0]):\n",
    "    a = np.random.randint(0,2)\n",
    "    if a <= 0.5:\n",
    "        generos.append('F')\n",
    "    else:\n",
    "        generos.append('M')\n",
    "G = np.array(generos)\n",
    "print(G.shape)\n",
    "G"
   ]
  },
  {
   "cell_type": "code",
   "execution_count": 44,
   "metadata": {},
   "outputs": [
    {
     "output_type": "execute_result",
     "data": {
      "text/plain": [
       "   llave_estudiante nombre_estudiante apellido_materno apellido_paterno  \\\n",
       "0                 1             ABEL            ABARCA            AYALA   \n",
       "1                 2          ALFONSO           DE ALBA           AGUAYO   \n",
       "2                 3  ALICIA VIRIDIANA            AYALA        ALCERRECA   \n",
       "3                 4       FLOR KARINA            AMAYA            AVILA   \n",
       "4                 5      JORGE ARTURO          ABASCAL          ANDRADE   \n",
       "\n",
       "  genero  llave_generacion  \n",
       "0      F                 5  \n",
       "1      M                10  \n",
       "2      F                 2  \n",
       "3      F                 7  \n",
       "4      F                 2  "
      ],
      "text/html": "<div>\n<style scoped>\n    .dataframe tbody tr th:only-of-type {\n        vertical-align: middle;\n    }\n\n    .dataframe tbody tr th {\n        vertical-align: top;\n    }\n\n    .dataframe thead th {\n        text-align: right;\n    }\n</style>\n<table border=\"1\" class=\"dataframe\">\n  <thead>\n    <tr style=\"text-align: right;\">\n      <th></th>\n      <th>llave_estudiante</th>\n      <th>nombre_estudiante</th>\n      <th>apellido_materno</th>\n      <th>apellido_paterno</th>\n      <th>genero</th>\n      <th>llave_generacion</th>\n    </tr>\n  </thead>\n  <tbody>\n    <tr>\n      <th>0</th>\n      <td>1</td>\n      <td>ABEL</td>\n      <td>ABARCA</td>\n      <td>AYALA</td>\n      <td>F</td>\n      <td>5</td>\n    </tr>\n    <tr>\n      <th>1</th>\n      <td>2</td>\n      <td>ALFONSO</td>\n      <td>DE ALBA</td>\n      <td>AGUAYO</td>\n      <td>M</td>\n      <td>10</td>\n    </tr>\n    <tr>\n      <th>2</th>\n      <td>3</td>\n      <td>ALICIA VIRIDIANA</td>\n      <td>AYALA</td>\n      <td>ALCERRECA</td>\n      <td>F</td>\n      <td>2</td>\n    </tr>\n    <tr>\n      <th>3</th>\n      <td>4</td>\n      <td>FLOR KARINA</td>\n      <td>AMAYA</td>\n      <td>AVILA</td>\n      <td>F</td>\n      <td>7</td>\n    </tr>\n    <tr>\n      <th>4</th>\n      <td>5</td>\n      <td>JORGE ARTURO</td>\n      <td>ABASCAL</td>\n      <td>ANDRADE</td>\n      <td>F</td>\n      <td>2</td>\n    </tr>\n  </tbody>\n</table>\n</div>"
     },
     "metadata": {},
     "execution_count": 44
    }
   ],
   "source": [
    "df = df.rename(columns={'Nombre':'nombre_estudiante', 'ApellidoMaterno':'apellido_materno', 'ApellidoPaterno':'apellido_paterno'})\n",
    "df.insert(0,\"llave_estudiante\",np.arange(1,df.shape[0]+1))\n",
    "df.insert(4,\"genero\",G)\n",
    "df.insert(5,\"llave_generacion\",np.random.randint(1,12,size=(df.shape[0],1)))\n",
    "df.head()"
   ]
  },
  {
   "cell_type": "code",
   "execution_count": 45,
   "metadata": {},
   "outputs": [],
   "source": [
    "df.to_csv('estudiante.csv', index=False)"
   ]
  },
  {
   "cell_type": "code",
   "execution_count": null,
   "metadata": {},
   "outputs": [],
   "source": []
  }
 ]
}